{
 "cells": [
  {
   "cell_type": "markdown",
   "id": "1ca0ecd8",
   "metadata": {
    "pycharm": {
     "name": "#%% md\n"
    }
   },
   "source": [
    "# 12.1. Предобработка большого датасета CARLA (seq5)"
   ]
  },
  {
   "cell_type": "markdown",
   "id": "5fd86d72",
   "metadata": {
    "pycharm": {
     "name": "#%% md\n"
    }
   },
   "source": [
    "## Предобработка большого датасета CARLA"
   ]
  },
  {
   "cell_type": "code",
   "execution_count": 1,
   "id": "ac15b38c",
   "metadata": {
    "pycharm": {
     "name": "#%%\n"
    }
   },
   "outputs": [
    {
     "name": "stdout",
     "output_type": "stream",
     "text": [
      "Jupyter environment detected. Enabling Open3D WebVisualizer.\n",
      "[Open3D INFO] WebRTC GUI backend enabled.\n",
      "[Open3D INFO] WebRTCWindowSystem: HTTP handshake server disabled.\n"
     ]
    }
   ],
   "source": [
    "%config Completer.use_jedi = False\n",
    "\n",
    "%load_ext autoreload\n",
    "%autoreload 2\n",
    "\n",
    "\n",
    "import pickle\n",
    "\n",
    "from itertools import islice\n",
    "\n",
    "from tqdm.auto import tqdm\n",
    "\n",
    "from registration_metrics import (\n",
    "    CARLA_dataset,\n",
    "    visualize_clds,\n",
    "    transform_pcd,\n",
    ")\n",
    "\n",
    "from paths import ROOT_DIR"
   ]
  },
  {
   "cell_type": "code",
   "execution_count": 3,
   "id": "02e3a283",
   "metadata": {
    "pycharm": {
     "name": "#%%\n"
    }
   },
   "outputs": [
    {
     "name": "stdout",
     "output_type": "stream",
     "text": [
      "CPU times: user 9.9 s, sys: 4.76 s, total: 14.7 s\n",
      "Wall time: 26.1 s\n"
     ]
    }
   ],
   "source": [
    "%%time\n",
    "\n",
    "data = CARLA_dataset(\n",
    "    dir_path=None,\n",
    "    filename=f\"{ROOT_DIR}/carla_semantic/seq5_withlabels/word_cords.csv\",\n",
    "    start_id=1000,\n",
    "    end_id=1030,\n",
    "    dataset_coords_type=\"world\",\n",
    "    wanted_coords_type=\"frame\"\n",
    ")"
   ]
  },
  {
   "cell_type": "code",
   "execution_count": 4,
   "id": "995c38df",
   "metadata": {
    "pycharm": {
     "name": "#%%\n"
    }
   },
   "outputs": [
    {
     "name": "stdout",
     "output_type": "stream",
     "text": [
      "CPU times: user 6.28 s, sys: 2.87 s, total: 9.15 s\n",
      "Wall time: 3.41 s\n"
     ]
    }
   ],
   "source": [
    "%%time\n",
    "\n",
    "data = CARLA_dataset(\n",
    "    dir_path=None,\n",
    "    filename=f\"{ROOT_DIR}/carla_semantic/seq5_withlabels/word_cords.csv\",\n",
    "    start_id=0,\n",
    "    end_id=30,\n",
    "    dataset_coords_type=\"world\",\n",
    "    wanted_coords_type=\"frame\"\n",
    ")"
   ]
  },
  {
   "cell_type": "markdown",
   "id": "35602a18",
   "metadata": {
    "pycharm": {
     "name": "#%% md\n"
    }
   },
   "source": [
    "Считаем все облака из CSV файла:"
   ]
  },
  {
   "cell_type": "code",
   "execution_count": 144,
   "id": "5cba1b3e",
   "metadata": {
    "pycharm": {
     "name": "#%%\n"
    }
   },
   "outputs": [],
   "source": [
    "filename=f\"{ROOT_DIR}/carla_semantic/seq5_withlabels/word_cords.csv\"\n",
    "\n",
    "seq5 = []\n",
    "with open(filename, mode='r') as csv_file:\n",
    "    for line_number, elem in enumerate(tqdm(csv_file)):\n",
    "        frame = dict(CARLA_dataset.parse_line(elem))\n",
    "        seq5.append(frame)"
   ]
  },
  {
   "cell_type": "code",
   "execution_count": 55,
   "id": "fa76cdac",
   "metadata": {
    "pycharm": {
     "name": "#%%\n"
    }
   },
   "outputs": [
    {
     "data": {
      "text/plain": [
       "2147.4817323684692"
      ]
     },
     "execution_count": 55,
     "metadata": {},
     "output_type": "execute_result"
    }
   ],
   "source": [
    "tmps = pickle.dumps(seq5)\n",
    "len(tmps) / 2 ** 20"
   ]
  },
  {
   "cell_type": "markdown",
   "id": "2036d2a4",
   "metadata": {
    "pycharm": {
     "name": "#%% md\n"
    }
   },
   "source": [
    "Сохраним считанные облака из CSV файла в отдельные файлы:"
   ]
  },
  {
   "cell_type": "code",
   "execution_count": 71,
   "id": "f0b1418e",
   "metadata": {
    "pycharm": {
     "name": "#%%\n"
    }
   },
   "outputs": [
    {
     "data": {
      "application/vnd.jupyter.widget-view+json": {
       "model_id": "cc4dc2e0a374489eb0b8511fb2916d59",
       "version_major": 2,
       "version_minor": 0
      },
      "text/plain": [
       "  0%|          | 0/2422 [00:00<?, ?it/s]"
      ]
     },
     "metadata": {},
     "output_type": "display_data"
    }
   ],
   "source": [
    "for pc_idx, frame in enumerate(tqdm(seq5)):\n",
    "    with open(f\"{ROOT_DIR}/carla_semantic/seq5_withlabels/\"\n",
    "              f\"point_clouds/{pc_idx:06}.bin\", \"wb\") as fout:\n",
    "        pickle.dump(frame, fout)"
   ]
  },
  {
   "cell_type": "markdown",
   "id": "dd7b7ac7",
   "metadata": {
    "pycharm": {
     "name": "#%% md\n"
    }
   },
   "source": [
    "Проверка записанных облаков:"
   ]
  },
  {
   "cell_type": "code",
   "execution_count": 122,
   "id": "dfa27a32",
   "metadata": {
    "pycharm": {
     "name": "#%%\n"
    }
   },
   "outputs": [],
   "source": [
    "with open(f\"{ROOT_DIR}/carla_semantic/seq5_withlabels/point_clouds/\"\n",
    "          f\"{0:06}.bin\", \"rb\") as fin:\n",
    "    frame = pickle.load(fin)"
   ]
  },
  {
   "cell_type": "markdown",
   "id": "2a42f663",
   "metadata": {
    "pycharm": {
     "name": "#%% md\n"
    }
   },
   "source": [
    "Проверка скорости работы старого и нового интерфейсов:"
   ]
  },
  {
   "cell_type": "code",
   "execution_count": 5,
   "id": "9c77d6f2",
   "metadata": {
    "pycharm": {
     "name": "#%%\n"
    }
   },
   "outputs": [
    {
     "name": "stdout",
     "output_type": "stream",
     "text": [
      "CPU times: user 21 s, sys: 9.11 s, total: 30.1 s\n",
      "Wall time: 10.7 s\n"
     ]
    }
   ],
   "source": [
    "%%time\n",
    "\n",
    "data_old = CARLA_dataset(\n",
    "    dir_path=None,\n",
    "    filename=f\"{ROOT_DIR}/carla_semantic/seq5_withlabels/word_cords.csv\",\n",
    "    start_id=0,\n",
    "    end_id=100,\n",
    "    dataset_coords_type=\"world\",\n",
    "    wanted_coords_type=\"frame\"\n",
    ")"
   ]
  },
  {
   "cell_type": "code",
   "execution_count": 6,
   "id": "9f2ee281",
   "metadata": {
    "pycharm": {
     "name": "#%%\n"
    }
   },
   "outputs": [
    {
     "name": "stdout",
     "output_type": "stream",
     "text": [
      "CPU times: user 940 ms, sys: 747 ms, total: 1.69 s\n",
      "Wall time: 559 ms\n"
     ]
    }
   ],
   "source": [
    "%%time\n",
    "\n",
    "data = CARLA_dataset(start_id=0, end_id=100, dataset_coords_type=\"world\")"
   ]
  },
  {
   "cell_type": "markdown",
   "id": "532223bc",
   "metadata": {
    "pycharm": {
     "name": "#%% md\n"
    }
   },
   "source": [
    "## Работа с большим датасетом CARLA"
   ]
  },
  {
   "cell_type": "code",
   "execution_count": 23,
   "id": "b4e877d9",
   "metadata": {
    "pycharm": {
     "name": "#%%\n"
    }
   },
   "outputs": [],
   "source": [
    "data = CARLA_dataset(\n",
    "    dir_path=None,\n",
    "    filename=f\"{ROOT_DIR}/carla_semantic/seq5_withlabels/word_cords.csv\",\n",
    "    start_id=0,\n",
    "    end_id=30,\n",
    "    dataset_coords_type=\"world\",\n",
    "    wanted_coords_type=\"frame\"\n",
    ")"
   ]
  },
  {
   "cell_type": "code",
   "execution_count": 24,
   "id": "37528c9e",
   "metadata": {
    "pycharm": {
     "name": "#%%\n"
    }
   },
   "outputs": [],
   "source": [
    "clds_big = data.clds"
   ]
  },
  {
   "cell_type": "code",
   "execution_count": 17,
   "id": "e0520d29",
   "metadata": {
    "pycharm": {
     "name": "#%%\n"
    }
   },
   "outputs": [],
   "source": [
    "clds = [\n",
    "    transform_pcd(cld, T)\n",
    "    for cld, T in islice(zip(data.clds, data.poses), None, None, 29)\n",
    "]\n",
    "\n",
    "visualize_clds(\n",
    "    clds + data.clds[::29],\n",
    "    label_names=[\"s5f0 world coords\", \"s5f30 world coords\",\n",
    "                 \"s5f0 frame coords\", \"s5f30 frame coords\"],\n",
    "    save_as=\"CARLA-seq5-big--visualization\", draw=False\n",
    ")"
   ]
  },
  {
   "cell_type": "code",
   "execution_count": null,
   "id": "f51fec6a",
   "metadata": {
    "pycharm": {
     "name": "#%%\n"
    }
   },
   "outputs": [],
   "source": []
  },
  {
   "cell_type": "code",
   "execution_count": 3,
   "id": "13816715",
   "metadata": {
    "pycharm": {
     "name": "#%%\n"
    }
   },
   "outputs": [],
   "source": [
    "data = CARLA_dataset(\n",
    "    dir_path=None,\n",
    "    filename=f\"{ROOT_DIR}/carla_semantic/seq5_withlabels/orig.csv\",\n",
    "    start_id=0,\n",
    "    end_id=30,\n",
    "    dataset_coords_type=\"frame\",\n",
    "    wanted_coords_type=\"frame\"\n",
    ")"
   ]
  },
  {
   "cell_type": "code",
   "execution_count": 26,
   "id": "653a853f",
   "metadata": {
    "pycharm": {
     "name": "#%%\n"
    }
   },
   "outputs": [],
   "source": [
    "clds_small = data.clds"
   ]
  },
  {
   "cell_type": "code",
   "execution_count": 19,
   "id": "76d49330",
   "metadata": {
    "pycharm": {
     "name": "#%%\n"
    }
   },
   "outputs": [],
   "source": [
    "clds = [\n",
    "    transform_pcd(cld, T)\n",
    "    for cld, T in islice(zip(data.clds, data.poses), None, None, 29)\n",
    "]\n",
    "\n",
    "visualize_clds(\n",
    "    clds + data.clds[::29],\n",
    "    label_names=[\"s5f0 world coords\", \"s5f30 world coords\",\n",
    "                 \"s5f0 frame coords\", \"s5f30 frame coords\"],\n",
    "    save_as=\"CARLA-seq5-small--visualization\", draw=False\n",
    ")"
   ]
  }
 ],
 "metadata": {
  "kernelspec": {
   "display_name": "Python 3 (ipykernel)",
   "language": "python",
   "name": "python3"
  },
  "language_info": {
   "codemirror_mode": {
    "name": "ipython",
    "version": 3
   },
   "file_extension": ".py",
   "mimetype": "text/x-python",
   "name": "python",
   "nbconvert_exporter": "python",
   "pygments_lexer": "ipython3",
   "version": "3.8.10"
  }
 },
 "nbformat": 4,
 "nbformat_minor": 5
}