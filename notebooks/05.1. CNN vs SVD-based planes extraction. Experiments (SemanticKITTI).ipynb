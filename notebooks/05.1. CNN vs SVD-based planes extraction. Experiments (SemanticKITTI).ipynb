{
 "cells": [
  {
   "cell_type": "code",
   "execution_count": 1,
   "id": "36a758a1",
   "metadata": {
    "pycharm": {
     "name": "#%%\n"
    }
   },
   "outputs": [],
   "source": [
    "%config Completer.use_jedi = False\n",
    "\n",
    "%load_ext autoreload\n",
    "%autoreload 2"
   ]
  },
  {
   "cell_type": "code",
   "execution_count": 2,
   "id": "ac717380",
   "metadata": {
    "pycharm": {
     "name": "#%%\n"
    }
   },
   "outputs": [],
   "source": [
    "SEED = 123\n",
    "bar_format = '{desc}{percentage:5.1f}%|{bar:10}{r_bar}'\n",
    "\n",
    "FILENAME = (\n",
    "    \"{dataset_name}\"\n",
    "    \"-refine_ts={dataset__refine_ts}\"\n",
    "    \"-downsample\"\n",
    "    \"-vs={orth_planes_extraction__downsample__voxel_size}\"\n",
    "    \"-upsample={orth_planes_extraction__downsample__upsample}\"\n",
    ")"
   ]
  },
  {
   "cell_type": "code",
   "execution_count": 3,
   "id": "688653cd",
   "metadata": {},
   "outputs": [],
   "source": [
    "import os\n",
    "import sys\n",
    "\n",
    "sys.path.insert(1, os.path.join(sys.path[0], \"..\"))"
   ]
  },
  {
   "cell_type": "code",
   "execution_count": 4,
   "id": "447d92e3",
   "metadata": {
    "pycharm": {
     "name": "#%%\n"
    }
   },
   "outputs": [
    {
     "name": "stdout",
     "output_type": "stream",
     "text": [
      "Jupyter environment detected. Enabling Open3D WebVisualizer.\n",
      "[Open3D INFO] WebRTC GUI backend enabled.\n",
      "[Open3D INFO] WebRTCWindowSystem: HTTP handshake server disabled.\n"
     ]
    }
   ],
   "source": [
    "import os\n",
    "from easydict import EasyDict\n",
    "import pickle\n",
    "\n",
    "from tqdm import tqdm\n",
    "\n",
    "from registration_metrics import (\n",
    "    seed_everything,\n",
    "    CARLA_dataset,\n",
    "    SemanticKITTI_dataset,\n",
    "    prepare_data,\n",
    "    sampling_pipeline,\n",
    "    load_config,\n",
    "    get_filename_fmt,\n",
    "    new_value_if_none,\n",
    ")"
   ]
  },
  {
   "cell_type": "code",
   "execution_count": 5,
   "id": "ed25ad1a",
   "metadata": {
    "pycharm": {
     "name": "#%%\n"
    }
   },
   "outputs": [],
   "source": [
    "from functools import partial\n",
    "\n",
    "\n",
    "def run_experiment(\n",
    "    seed, config, filename,\n",
    "    *,\n",
    "    override=False,\n",
    "    map_size=10, N_samples=5, cov_scaler=10,\n",
    "    # start_internal_id=0, end_internal_id=2422, step_internal_id=40,\n",
    "    start_internal_id=None, end_internal_id=None, step_internal_id=None,\n",
    "    prepare_func=prepare_data, dataset=None,  # \"CARLA\",\n",
    "    verbose=False\n",
    "):\n",
    "    # Load config\n",
    "    if isinstance(config, str):\n",
    "        config = load_config(config)\n",
    "\n",
    "    # Prepare dataset_builder\n",
    "    dataset_builder_kwargs = {}\n",
    "    dataset = dataset or config.dataset.name\n",
    "    if isinstance(dataset, str):\n",
    "        dataset = dataset.lower()\n",
    "        assert dataset in (\"carla\", \"semantickitti\")\n",
    "        if dataset == \"carla\":\n",
    "            dataset_builder = CARLA_dataset\n",
    "            dataset_builder_kwargs[\"dataset_coords_type\"] = \"world\"\n",
    "        elif dataset == \"semantickitti\":\n",
    "            dataset_builder = SemanticKITTI_dataset\n",
    "    else:\n",
    "        dataset_builder = dataset\n",
    "\n",
    "    # Set begin, end and step for external ids for dataset\n",
    "    if dataset_builder is CARLA_dataset:\n",
    "        start_internal_id = new_value_if_none(start_internal_id, 0)\n",
    "        end_internal_id = new_value_if_none(end_internal_id, 2422)\n",
    "        step_internal_id = new_value_if_none(step_internal_id, 40)\n",
    "    elif dataset_builder is SemanticKITTI_dataset:\n",
    "        start_internal_id = new_value_if_none(start_internal_id, 0)\n",
    "        end_internal_id = new_value_if_none(end_internal_id, 3630)\n",
    "        step_internal_id = new_value_if_none(step_internal_id, 120)\n",
    "    else:\n",
    "        raise ValueError('Unknown dataset_builder type.')\n",
    "\n",
    "    # Determine dataset name\n",
    "    dataset_name = dataset_builder.__name__\n",
    "    dataset_name_suffix = \"_dataset\"\n",
    "    if dataset_name.endswith(dataset_name_suffix):\n",
    "        dataset_name = dataset_name[:-len(dataset_name_suffix)]\n",
    "\n",
    "    # Determine filename for results\n",
    "    filename_fmt = get_filename_fmt(config)\n",
    "    filename_fmt[\"dataset_name\"] = dataset_name\n",
    "    filename = filename.format(**filename_fmt) + \".pkl\"\n",
    "    print(f\"Results WILL be saved to \\\"{filename}\\\".\")\n",
    "\n",
    "    # Check existance of file for results\n",
    "    if os.path.exists(filename):\n",
    "        print(f\"File \\\"{filename}\\\" for results exists! \", end=\"\")\n",
    "        if override:\n",
    "            print(\"Continuing.\")\n",
    "        else:\n",
    "            print(\"Exiting.\")\n",
    "            return\n",
    "\n",
    "    seed_everything(seed)\n",
    "\n",
    "    results = {}\n",
    "\n",
    "    try:\n",
    "        # Main loop\n",
    "        for internal_id in tqdm(\n",
    "            range(start_internal_id, end_internal_id, step_internal_id),\n",
    "            desc=\"Internal IDs\",\n",
    "            bar_format=bar_format\n",
    "        ):\n",
    "            start_id, end_id = internal_id, internal_id + map_size\n",
    "\n",
    "            data = dataset_builder(start_id=start_id, end_id=end_id,\n",
    "                                   **dataset_builder_kwargs)\n",
    "\n",
    "            pcs = data.clds\n",
    "            T_gt = data.poses\n",
    "\n",
    "            pcs, T_gt, orth_planes, orth_planes_cld_ind, details = prepare_func(\n",
    "                pcs, T_gt, config)\n",
    "            details[\"orth_planes\"] = orth_planes\n",
    "            details[\"orth_planes_cld_ind\"] = orth_planes_cld_ind\n",
    "\n",
    "            tips = EasyDict(orth_list=orth_planes, config=config)\n",
    "\n",
    "            save_dict = sampling_pipeline(\n",
    "                pcs=pcs, T_gt=T_gt, map_tips=tips,\n",
    "                N_samples=N_samples, cov_scaler=cov_scaler,\n",
    "                orth_planes_cld_ind=orth_planes_cld_ind,\n",
    "                verbose=verbose\n",
    "            )\n",
    "\n",
    "            results[internal_id, map_size] = {**details, **save_dict}\n",
    "            \n",
    "    except KeyboardInterrupt:\n",
    "        print(\"Process was interrupted! Probably something is missed!\")\n",
    "\n",
    "    with open(filename, 'wb') as sfile:\n",
    "        pickle.dump(results, sfile)\n",
    "    print(f\"Results were saved to \\\"{filename}\\\".\")\n",
    "\n",
    "\n",
    "run_SemanticKITTI_seq0 = partial(run_experiment, dataset=\"semantickitti\")\n",
    "run_CARLA_seq5 = partial(run_experiment, dataset=\"carla\")"
   ]
  },
  {
   "cell_type": "markdown",
   "id": "18d58f6b",
   "metadata": {
    "pycharm": {
     "name": "#%% md\n"
    }
   },
   "source": [
    "# SemanticKITTI"
   ]
  },
  {
   "cell_type": "markdown",
   "id": "2067bac2",
   "metadata": {
    "pycharm": {
     "name": "#%% md\n"
    }
   },
   "source": [
    "## SVD planes extractor + refined transformations"
   ]
  },
  {
   "cell_type": "code",
   "execution_count": 22,
   "id": "2c7fe895",
   "metadata": {
    "pycharm": {
     "name": "#%%\n"
    }
   },
   "outputs": [
    {
     "name": "stdout",
     "output_type": "stream",
     "text": [
      "{'dataset': {'refine_ts': True},\n",
      " 'metrics': {'mean_map_metric': {'min_nn': 6},\n",
      "             'mom': {'input': 'whole', 'min_nn': 6}},\n",
      " 'normals_estimation': {'max_nn': 30, 'max_radius': 1.0},\n",
      " 'orth_planes_extraction': {'affinity': 'cosine',\n",
      "                            'dist_threshold': 0.1,\n",
      "                            'downsample': {'upsample': False,\n",
      "                                           'use': True,\n",
      "                                           'voxel_size': 0.4},\n",
      "                            'from_pc': 'first',\n",
      "                            'min_clust_size': 10},\n",
      " 'planes_segmentation': {'algo': 'svd_filter'}}\n",
      "Results WILL be saved to \"SemanticKITTI-refine_ts=True-downsample-vs=0.4-upsample=False.pkl\".\n",
      "File \"SemanticKITTI-refine_ts=True-downsample-vs=0.4-upsample=False.pkl\" for results exists! Continuing.\n",
      "Random seed set as 123\n"
     ]
    },
    {
     "name": "stderr",
     "output_type": "stream",
     "text": [
      "Internal IDs100.0%|██████████| 31/31 [26:38<00:00, 51.57s/it]"
     ]
    },
    {
     "name": "stdout",
     "output_type": "stream",
     "text": [
      "Results were saved to \"SemanticKITTI-refine_ts=True-downsample-vs=0.4-upsample=False.pkl\".\n"
     ]
    },
    {
     "name": "stderr",
     "output_type": "stream",
     "text": [
      "\n"
     ]
    }
   ],
   "source": [
    "filename = FILENAME\n",
    "run_SemanticKITTI_seq0(SEED, \"downsampling_vs0.4-refine_ts\", filename)"
   ]
  },
  {
   "cell_type": "markdown",
   "id": "42eac12d",
   "metadata": {
    "pycharm": {
     "name": "#%% md\n"
    }
   },
   "source": [
    "С оптимизированной метрикой МоМ посчиталось за 26 минут 38 секунд!"
   ]
  },
  {
   "cell_type": "markdown",
   "id": "b5edba5c",
   "metadata": {
    "pycharm": {
     "name": "#%% md\n"
    }
   },
   "source": [
    "## SVD planes extractor + MOM on planes + refined transformations"
   ]
  },
  {
   "cell_type": "code",
   "execution_count": 8,
   "id": "b9b43737",
   "metadata": {
    "pycharm": {
     "name": "#%%\n"
    }
   },
   "outputs": [
    {
     "name": "stdout",
     "output_type": "stream",
     "text": [
      "{'dataset': {'name': 'semantickitti', 'refine_ts': True},\n",
      " 'metrics': {'mean_map_metric': {'min_nn': 6},\n",
      "             'mom': {'input': 'planes', 'min_nn': 6}},\n",
      " 'normals_estimation': {'max_nn': 30, 'max_radius': 1.0},\n",
      " 'orth_planes_extraction': {'affinity': 'cosine',\n",
      "                            'dist_threshold': 0.1,\n",
      "                            'downsample': {'upsample': False,\n",
      "                                           'use': True,\n",
      "                                           'voxel_size': 0.4},\n",
      "                            'from_pc': 'first',\n",
      "                            'min_clust_size': 10},\n",
      " 'planes_segmentation': {'algo': 'svd_filter'}}\n",
      "Results WILL be saved to \"SemanticKITTI-refine_ts=True-downsample-vs=0.4-upsample=False-mom_planes.pkl\".\n",
      "Random seed set as 123\n"
     ]
    },
    {
     "name": "stderr",
     "output_type": "stream",
     "text": [
      "Internal IDs  3.2%|▎         | 1/31 [04:16<2:08:12, 256.42s/it]\n"
     ]
    },
    {
     "name": "stdout",
     "output_type": "stream",
     "text": [
      "Process was interrupted! Probably something is missed!\n",
      "Results were saved to \"SemanticKITTI-refine_ts=True-downsample-vs=0.4-upsample=False-mom_planes.pkl\".\n"
     ]
    }
   ],
   "source": [
    "filename = FILENAME + \"-mom_{metrics__mom__input}\"\n",
    "run_SemanticKITTI_seq0(SEED, \"downsampling_vs0.4-refine_ts-mom_planes\", filename)"
   ]
  },
  {
   "cell_type": "markdown",
   "id": "7c23ebff",
   "metadata": {},
   "source": [
    "takes too much time"
   ]
  },
  {
   "cell_type": "markdown",
   "id": "6039c1a7",
   "metadata": {
    "pycharm": {
     "name": "#%% md\n"
    }
   },
   "source": [
    "## SPVCNN planes extractor + refined transformations"
   ]
  },
  {
   "cell_type": "code",
   "execution_count": 5,
   "id": "6e37d883",
   "metadata": {
    "pycharm": {
     "name": "#%%\n"
    }
   },
   "outputs": [
    {
     "name": "stdout",
     "output_type": "stream",
     "text": [
      "{'dataset': {'name': 'semantickitti', 'refine_ts': True},\n",
      " 'metrics': {'mean_map_metric': {'min_nn': 6},\n",
      "             'mom': {'input': 'whole', 'min_nn': 6}},\n",
      " 'normals_estimation': {'max_nn': 30, 'max_radius': 1.0},\n",
      " 'orth_planes_extraction': {'affinity': 'cosine',\n",
      "                            'dist_threshold': 0.1,\n",
      "                            'downsample': {'upsample': False,\n",
      "                                           'use': True,\n",
      "                                           'voxel_size': 0.4},\n",
      "                            'from_pc': 'first',\n",
      "                            'min_clust_size': 10},\n",
      " 'planes_segmentation': {'algo': 'spvcnn', 'spvcnn': {'voxel_size': 0.05}}}\n",
      "Results WILL be saved to \"SemanticKITTI-refine_ts=True-downsample-vs=0.4-upsample=False-spvcnn.pkl\".\n",
      "Random seed set as 123\n"
     ]
    },
    {
     "name": "stderr",
     "output_type": "stream",
     "text": [
      "Internal IDs100.0%|██████████| 31/31 [15:37<00:00, 30.25s/it]"
     ]
    },
    {
     "name": "stdout",
     "output_type": "stream",
     "text": [
      "Results were saved to \"SemanticKITTI-refine_ts=True-downsample-vs=0.4-upsample=False-spvcnn.pkl\".\n"
     ]
    },
    {
     "name": "stderr",
     "output_type": "stream",
     "text": [
      "\n"
     ]
    }
   ],
   "source": [
    "filename = FILENAME + \"-{planes_segmentation__algo}\"\n",
    "run_experiment(SEED, \"spvcnn-downsampling_vs0.4-refine_ts\", filename)"
   ]
  },
  {
   "cell_type": "markdown",
   "id": "0b5331bb",
   "metadata": {
    "pycharm": {
     "name": "#%% md\n"
    }
   },
   "source": [
    "С оптимизированной метрикой МоМ посчиталось за 15 минут 37 секунд!"
   ]
  },
  {
   "cell_type": "markdown",
   "id": "60f68802",
   "metadata": {
    "pycharm": {
     "name": "#%% md\n"
    }
   },
   "source": [
    "## SPVCNN planes extractor + MoM on planes + refined transformations"
   ]
  },
  {
   "cell_type": "code",
   "execution_count": 6,
   "id": "88c78ff8",
   "metadata": {
    "pycharm": {
     "name": "#%%\n"
    }
   },
   "outputs": [
    {
     "name": "stdout",
     "output_type": "stream",
     "text": [
      "{'dataset': {'name': 'semantickitti', 'refine_ts': True},\n",
      " 'metrics': {'mean_map_metric': {'min_nn': 6},\n",
      "             'mom': {'input': 'planes', 'min_nn': 6}},\n",
      " 'normals_estimation': {'max_nn': 30, 'max_radius': 1.0},\n",
      " 'orth_planes_extraction': {'affinity': 'cosine',\n",
      "                            'dist_threshold': 0.1,\n",
      "                            'downsample': {'upsample': False,\n",
      "                                           'use': True,\n",
      "                                           'voxel_size': 0.4},\n",
      "                            'from_pc': 'first',\n",
      "                            'min_clust_size': 10},\n",
      " 'planes_segmentation': {'algo': 'spvcnn', 'spvcnn': {'voxel_size': 0.05}}}\n",
      "Results WILL be saved to \"SemanticKITTI-refine_ts=True-downsample-vs=0.4-upsample=False-spvcnn-mom_planes.pkl\".\n",
      "Random seed set as 123\n"
     ]
    },
    {
     "name": "stderr",
     "output_type": "stream",
     "text": [
      "Internal IDs100.0%|██████████| 31/31 [11:28<00:00, 22.20s/it]"
     ]
    },
    {
     "name": "stdout",
     "output_type": "stream",
     "text": [
      "Results were saved to \"SemanticKITTI-refine_ts=True-downsample-vs=0.4-upsample=False-spvcnn-mom_planes.pkl\".\n"
     ]
    },
    {
     "name": "stderr",
     "output_type": "stream",
     "text": [
      "\n"
     ]
    }
   ],
   "source": [
    "filename = FILENAME + \"-{planes_segmentation__algo}\" + \"-mom_{metrics__mom__input}\"\n",
    "run_SemanticKITTI_seq0(SEED, \"spvcnn-downsampling_vs0.4-mom_planes-refine_ts\", filename)"
   ]
  },
  {
   "cell_type": "markdown",
   "id": "5be9a502",
   "metadata": {
    "pycharm": {
     "name": "#%% md\n"
    }
   },
   "source": [
    "С оптимизированной метрикой МоМ посчиталось за 11 минут 28 секунд!"
   ]
  }
 ],
 "metadata": {
  "kernelspec": {
   "display_name": "Python 3 (ipykernel)",
   "language": "python",
   "name": "python3"
  },
  "language_info": {
   "codemirror_mode": {
    "name": "ipython",
    "version": 3
   },
   "file_extension": ".py",
   "mimetype": "text/x-python",
   "name": "python",
   "nbconvert_exporter": "python",
   "pygments_lexer": "ipython3",
   "version": "3.8.10"
  }
 },
 "nbformat": 4,
 "nbformat_minor": 5
}
