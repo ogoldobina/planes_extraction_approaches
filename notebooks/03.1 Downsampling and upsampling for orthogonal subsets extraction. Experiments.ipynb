{
 "cells": [
  {
   "cell_type": "code",
   "execution_count": 2,
   "id": "36a758a1",
   "metadata": {
    "pycharm": {
     "name": "#%%\n"
    }
   },
   "outputs": [],
   "source": [
    "%config Completer.use_jedi = False\n",
    "\n",
    "%load_ext autoreload\n",
    "%autoreload 2"
   ]
  },
  {
   "cell_type": "code",
   "execution_count": 3,
   "id": "bd591d79",
   "metadata": {
    "pycharm": {
     "name": "#%%\n"
    }
   },
   "outputs": [],
   "source": [
    "SEED = 123\n",
    "bar_format = '{desc}{percentage:5.1f}%|{bar:10}{r_bar}'"
   ]
  },
  {
   "cell_type": "code",
   "execution_count": 4,
   "id": "447d92e3",
   "metadata": {
    "pycharm": {
     "name": "#%%\n"
    }
   },
   "outputs": [
    {
     "name": "stdout",
     "output_type": "stream",
     "text": [
      "Jupyter environment detected. Enabling Open3D WebVisualizer.\n",
      "[Open3D INFO] WebRTC GUI backend enabled.\n",
      "[Open3D INFO] WebRTCWindowSystem: HTTP handshake server disabled.\n"
     ]
    }
   ],
   "source": [
    "from pprint import pprint\n",
    "import yaml\n",
    "from easydict import EasyDict\n",
    "import pickle\n",
    "\n",
    "from tqdm import tqdm\n",
    "\n",
    "from registration_metrics import (\n",
    "    seed_everything,\n",
    "    CARLA_dataset,\n",
    "    prepare_data,\n",
    "    sampling_pipeline\n",
    ")\n",
    "\n",
    "from paths import PROJECT_DIR"
   ]
  },
  {
   "cell_type": "code",
   "execution_count": 5,
   "id": "9d578057",
   "metadata": {
    "pycharm": {
     "name": "#%%\n"
    }
   },
   "outputs": [],
   "source": [
    "def run_CARLA_seq5(\n",
    "    seed, config,\n",
    "    map_size=10, N_samples=5, cov_scaler=10,\n",
    "    start_internal_id=0, end_internal_id=2422, step_internal_id=40,\n",
    "    verbose=False\n",
    "):\n",
    "    seed_everything(seed)\n",
    "\n",
    "    prepare_func = prepare_data\n",
    "\n",
    "    results = {}\n",
    "    for internal_id in tqdm(\n",
    "        range(start_internal_id, end_internal_id, step_internal_id),\n",
    "        desc=\"Internal IDs\",\n",
    "        bar_format=bar_format\n",
    "    ):\n",
    "        start_id, end_id = internal_id, internal_id + map_size\n",
    "\n",
    "        data = CARLA_dataset(start_id=start_id, end_id=end_id,\n",
    "                             dataset_coords_type=\"world\")\n",
    "\n",
    "        pcs = data.clds\n",
    "        T_gt = data.poses\n",
    "\n",
    "        pcs, T_gt, orth_planes, orth_planes_cld_ind, details = prepare_func(\n",
    "            pcs, T_gt, config)\n",
    "        details[\"orth_planes\"] = orth_planes\n",
    "        details[\"orth_planes_cld_ind\"] = orth_planes_cld_ind\n",
    "\n",
    "        tips = EasyDict(orth_list=orth_planes, config=config)\n",
    "\n",
    "        save_dict = sampling_pipeline(\n",
    "            pcs=pcs, T_gt=T_gt, map_tips=tips,\n",
    "            N_samples=N_samples, cov_scaler=cov_scaler,\n",
    "            orth_planes_cld_ind=orth_planes_cld_ind,\n",
    "            verbose=verbose\n",
    "        )\n",
    "\n",
    "        results[internal_id, map_size] = {**details, **save_dict}\n",
    "\n",
    "    down_config = config.orth_planes_extraction.downsample\n",
    "    voxel_size = down_config.voxel_size\n",
    "    use_upsampe = down_config.upsample\n",
    "\n",
    "    filename = f\"CARLA-downsampling{{}}_vs{voxel_size}.pkl\".format(\n",
    "        \"_upsampling\" if use_upsampe else \"\"\n",
    "    )\n",
    "    with open(filename, 'wb') as sfile:\n",
    "        pickle.dump(results, sfile)\n",
    "    print(f\"Results were saved to \\\"{filename}\\\".\")"
   ]
  },
  {
   "cell_type": "code",
   "execution_count": 6,
   "id": "6f2e893f",
   "metadata": {
    "pycharm": {
     "name": "#%%\n"
    }
   },
   "outputs": [],
   "source": [
    "def load_config(filename, verbose=True,\n",
    "                config_dir=f\"{PROJECT_DIR}/configs/mom_pipeline\"):\n",
    "    with open(f'{config_dir}/{filename}.yaml', 'r') as file:\n",
    "        config = EasyDict(yaml.safe_load(file))\n",
    "\n",
    "    if verbose:\n",
    "        pprint(config)\n",
    "\n",
    "    return config"
   ]
  },
  {
   "cell_type": "code",
   "execution_count": null,
   "id": "57327ae5",
   "metadata": {
    "pycharm": {
     "name": "#%%\n"
    }
   },
   "outputs": [],
   "source": []
  },
  {
   "cell_type": "code",
   "execution_count": 7,
   "id": "e220c62d",
   "metadata": {
    "pycharm": {
     "name": "#%%\n"
    }
   },
   "outputs": [
    {
     "name": "stdout",
     "output_type": "stream",
     "text": [
      "{'metrics': {'mean_map_metric': {'min_nn': 6},\n",
      "             'mom': {'input': 'whole', 'min_nn': 6}},\n",
      " 'normals_estimation': {'max_nn': 30, 'max_radius': 1.0},\n",
      " 'orth_planes_extraction': {'affinity': 'cosine',\n",
      "                            'dist_threshold': 0.1,\n",
      "                            'downsample': {'upsample': False,\n",
      "                                           'use': False,\n",
      "                                           'voxel_size': 0.6},\n",
      "                            'from_pc': 'first',\n",
      "                            'min_clust_size': 10},\n",
      " 'planes_segmentation': {'algo': 'svd_filter'}}\n",
      "Random seed set as 123\n"
     ]
    },
    {
     "name": "stderr",
     "output_type": "stream",
     "text": [
      "Internal IDs100.0%|██████████| 61/61 [32:58<00:00, 32.43s/it]\n"
     ]
    },
    {
     "name": "stdout",
     "output_type": "stream",
     "text": [
      "Results were saved to \"CARLA-downsampling_vs0.6.pkl\".\n"
     ]
    }
   ],
   "source": [
    "cfg = load_config(\"cosine_affinity\")\n",
    "run_CARLA_seq5(SEED, cfg)"
   ]
  },
  {
   "cell_type": "code",
   "execution_count": null,
   "id": "8d174799",
   "metadata": {
    "pycharm": {
     "name": "#%%\n"
    }
   },
   "outputs": [],
   "source": []
  },
  {
   "cell_type": "markdown",
   "id": "5bd8cb32",
   "metadata": {
    "pycharm": {
     "name": "#%% md\n"
    }
   },
   "source": [
    "# Downsampling & upsampling"
   ]
  },
  {
   "cell_type": "markdown",
   "id": "d2afd7fe",
   "metadata": {
    "pycharm": {
     "name": "#%% md\n"
    }
   },
   "source": [
    "## `voxel_size = 0.2`"
   ]
  },
  {
   "cell_type": "code",
   "execution_count": 6,
   "id": "dceb6c8e",
   "metadata": {
    "scrolled": true,
    "pycharm": {
     "name": "#%%\n"
    }
   },
   "outputs": [
    {
     "name": "stdout",
     "output_type": "stream",
     "text": [
      "{'metrics': {'mean_map_metric': {'min_nn': 6},\n",
      "             'mom': {'input': 'whole', 'min_nn': 6}},\n",
      " 'normals_estimation': {'max_nn': 30, 'max_radius': 1.0},\n",
      " 'orth_planes_extraction': {'affinity': 'cosine',\n",
      "                            'dist_threshold': 0.1,\n",
      "                            'downsample': {'upsample': True,\n",
      "                                           'use': True,\n",
      "                                           'voxel_size': 0.2},\n",
      "                            'from_pc': 'first',\n",
      "                            'min_clust_size': 10},\n",
      " 'planes_segmentation': {'algo': 'svd_filter'}}\n",
      "Random seed set as 123\n"
     ]
    },
    {
     "name": "stderr",
     "output_type": "stream",
     "text": [
      "Internal IDs: 100%|███████████████████████████████████████████████████████████████████████████████████████████████████████████████| 61/61 [30:46<00:00, 30.28s/it]\n"
     ]
    },
    {
     "name": "stdout",
     "output_type": "stream",
     "text": [
      "Results were saved to \"CARLA-downsampling_upsampling_vs0.2.pkl\".\n"
     ]
    }
   ],
   "source": [
    "cfg = load_config(\"downsampling_upsampling_vs0.2\")\n",
    "run_CARLA_seq5(SEED, cfg)"
   ]
  },
  {
   "cell_type": "markdown",
   "id": "256723b3",
   "metadata": {
    "pycharm": {
     "name": "#%% md\n"
    }
   },
   "source": [
    "С оптимизированной метрикой МоМ посчиталось за 30 минут 46 секунд!"
   ]
  },
  {
   "cell_type": "markdown",
   "id": "070b6851",
   "metadata": {
    "pycharm": {
     "name": "#%% md\n"
    }
   },
   "source": [
    "## `voxel_size = 0.3`"
   ]
  },
  {
   "cell_type": "code",
   "execution_count": 4,
   "id": "f5d713b9",
   "metadata": {
    "collapsed": true,
    "pycharm": {
     "name": "#%%\n"
    }
   },
   "outputs": [
    {
     "name": "stdout",
     "output_type": "stream",
     "text": [
      "Random seed set as 1\n"
     ]
    },
    {
     "data": {
      "text/plain": [
       "{'normals_estimation': {'max_radius': 1.0, 'max_nn': 30},\n",
       " 'orth_planes_extraction': {'min_clust_size': 10,\n",
       "  'affinity': 'cosine',\n",
       "  'dist_threshold': 0.1,\n",
       "  'from_pc': 'first',\n",
       "  'downsample': {'use': True, 'voxel_size': 0.3, 'upsample': True}},\n",
       " 'planes_segmentation': {'algo': 'svd_filter'},\n",
       " 'metrics': {'mom': {'min_nn': 6, 'input': 'whole'},\n",
       "  'mean_map_metric': {'min_nn': 6}}}"
      ]
     },
     "execution_count": 4,
     "metadata": {},
     "output_type": "execute_result"
    }
   ],
   "source": [
    "seed_everything(1)\n",
    "\n",
    "with open('configs/mom_pipeline/downsampling_upsampling_vs0.3.yaml', 'r') as file:\n",
    "    config = EasyDict(yaml.safe_load(file))\n",
    "\n",
    "config"
   ]
  },
  {
   "cell_type": "code",
   "execution_count": null,
   "id": "7d601a99",
   "metadata": {
    "collapsed": true,
    "pycharm": {
     "name": "#%%\n",
     "is_executing": true
    }
   },
   "outputs": [],
   "source": [
    "seed_everything(123)\n",
    "\n",
    "prepare_func = prepare_data\n",
    "\n",
    "map_size = 10\n",
    "N_samples = 5\n",
    "cov_scaler = 10\n",
    "\n",
    "results = {}\n",
    "for internal_id in tqdm(range(0, 2422, 40), \"Internal IDs\"):\n",
    "    start_id, end_id = internal_id, internal_id + map_size\n",
    "\n",
    "    data = CARLA_dataset(start_id=start_id, end_id=end_id, dataset_coords_type=\"world\")\n",
    "\n",
    "    pcs = data.clds\n",
    "    T_gt = data.poses\n",
    "\n",
    "    pcs, T_gt, orth_planes, orth_planes_cld_ind, details = prepare_func(\n",
    "        pcs, T_gt, config)\n",
    "    details[\"orth_planes\"] = orth_planes\n",
    "    details[\"orth_planes_cld_ind\"] = orth_planes_cld_ind\n",
    "\n",
    "    tips = EasyDict(orth_list=orth_planes, config=config)\n",
    "\n",
    "    save_dict = sampling_pipeline(\n",
    "        pcs=pcs, T_gt=T_gt, map_tips=tips,\n",
    "        N_samples=N_samples, cov_scaler=cov_scaler,\n",
    "        orth_planes_cld_ind=orth_planes_cld_ind\n",
    "    )\n",
    "\n",
    "    results[internal_id, map_size] = {**details, **save_dict}\n",
    "\n",
    "voxel_size = config.orth_planes_extraction.downsample.voxel_size\n",
    "with open(f\"CARLA-downsampling_upsampling_vs{voxel_size}.pkl\", 'wb') as sfile:\n",
    "    pickle.dump(results, sfile)"
   ]
  },
  {
   "cell_type": "markdown",
   "id": "aeaa0fa5",
   "metadata": {
    "pycharm": {
     "name": "#%% md\n"
    }
   },
   "source": [
    "С оптимизированной метрикой МоМ посчиталось за 30 минут 54 секунд!"
   ]
  },
  {
   "cell_type": "markdown",
   "id": "2771cb7f",
   "metadata": {
    "pycharm": {
     "name": "#%% md\n"
    }
   },
   "source": [
    "## `voxel_size = 0.4`"
   ]
  },
  {
   "cell_type": "code",
   "execution_count": 8,
   "id": "e1c24799",
   "metadata": {
    "collapsed": true,
    "pycharm": {
     "name": "#%%\n"
    }
   },
   "outputs": [
    {
     "name": "stdout",
     "output_type": "stream",
     "text": [
      "Random seed set as 1\n"
     ]
    },
    {
     "data": {
      "text/plain": [
       "{'normals_estimation': {'max_radius': 1.0, 'max_nn': 30},\n",
       " 'orth_planes_extraction': {'min_clust_size': 10,\n",
       "  'affinity': 'cosine',\n",
       "  'dist_threshold': 0.1,\n",
       "  'from_pc': 'first',\n",
       "  'downsample': {'use': True, 'voxel_size': 0.4, 'upsample': True}},\n",
       " 'planes_segmentation': {'algo': 'svd_filter'},\n",
       " 'metrics': {'mom': {'min_nn': 6, 'input': 'whole'},\n",
       "  'mean_map_metric': {'min_nn': 6}}}"
      ]
     },
     "execution_count": 8,
     "metadata": {},
     "output_type": "execute_result"
    }
   ],
   "source": [
    "seed_everything(1)\n",
    "\n",
    "with open('configs/mom_pipeline/downsampling_upsampling_vs0.4.yaml', 'r') as file:\n",
    "    config = EasyDict(yaml.safe_load(file))\n",
    "\n",
    "config"
   ]
  },
  {
   "cell_type": "code",
   "execution_count": null,
   "id": "ebb15086",
   "metadata": {
    "collapsed": true,
    "pycharm": {
     "name": "#%%\n",
     "is_executing": true
    }
   },
   "outputs": [],
   "source": [
    "seed_everything(123)\n",
    "\n",
    "prepare_func = prepare_data\n",
    "\n",
    "map_size = 10\n",
    "N_samples = 5\n",
    "cov_scaler = 10\n",
    "\n",
    "results = {}\n",
    "for internal_id in tqdm(range(0, 2422, 40), \"Internal IDs\"):\n",
    "    start_id, end_id = internal_id, internal_id + map_size\n",
    "\n",
    "    data = CARLA_dataset(start_id=start_id, end_id=end_id, dataset_coords_type=\"world\")\n",
    "\n",
    "    pcs = data.clds\n",
    "    T_gt = data.poses\n",
    "\n",
    "    pcs, T_gt, orth_planes, orth_planes_cld_ind, details = prepare_func(\n",
    "        pcs, T_gt, config)\n",
    "    details[\"orth_planes\"] = orth_planes\n",
    "    details[\"orth_planes_cld_ind\"] = orth_planes_cld_ind\n",
    "\n",
    "    tips = EasyDict(orth_list=orth_planes, config=config)\n",
    "\n",
    "    save_dict = sampling_pipeline(\n",
    "        pcs=pcs, T_gt=T_gt, map_tips=tips,\n",
    "        N_samples=N_samples, cov_scaler=cov_scaler,\n",
    "        orth_planes_cld_ind=orth_planes_cld_ind\n",
    "    )\n",
    "\n",
    "    results[internal_id, map_size] = {**details, **save_dict}\n",
    "\n",
    "voxel_size = config.orth_planes_extraction.downsample.voxel_size\n",
    "with open(f\"CARLA-downsampling_upsampling_vs{voxel_size}.pkl\", 'wb') as sfile:\n",
    "    pickle.dump(results, sfile)"
   ]
  },
  {
   "cell_type": "markdown",
   "id": "1514b114",
   "metadata": {
    "pycharm": {
     "name": "#%% md\n"
    }
   },
   "source": [
    "Считалось 2 часа 3 минуты. Тут метрика МоМ была не оптимизирована!\n",
    "\n",
    "С оптимизированной метрикой МоМ посчиталось за 30 минут 11 секунд!"
   ]
  },
  {
   "cell_type": "markdown",
   "id": "7c960abb",
   "metadata": {
    "pycharm": {
     "name": "#%% md\n"
    }
   },
   "source": [
    "## `voxel_size = 0.6`"
   ]
  },
  {
   "cell_type": "code",
   "execution_count": 7,
   "id": "fbe078ac",
   "metadata": {
    "collapsed": true,
    "pycharm": {
     "name": "#%%\n"
    }
   },
   "outputs": [
    {
     "name": "stdout",
     "output_type": "stream",
     "text": [
      "Random seed set as 1\n"
     ]
    },
    {
     "data": {
      "text/plain": [
       "{'normals_estimation': {'max_radius': 1.0, 'max_nn': 30},\n",
       " 'orth_planes_extraction': {'min_clust_size': 10,\n",
       "  'affinity': 'cosine',\n",
       "  'dist_threshold': 0.1,\n",
       "  'from_pc': 'first',\n",
       "  'downsample': {'use': True, 'voxel_size': 0.6, 'upsample': True}},\n",
       " 'planes_segmentation': {'algo': 'svd_filter'},\n",
       " 'metrics': {'mom': {'min_nn': 6, 'input': 'whole'},\n",
       "  'mean_map_metric': {'min_nn': 6}}}"
      ]
     },
     "execution_count": 7,
     "metadata": {},
     "output_type": "execute_result"
    }
   ],
   "source": [
    "seed_everything(1)\n",
    "\n",
    "with open('configs/mom_pipeline/downsampling_upsampling_vs0.6.yaml', 'r') as file:\n",
    "    config = EasyDict(yaml.safe_load(file))\n",
    "\n",
    "config"
   ]
  },
  {
   "cell_type": "code",
   "execution_count": null,
   "id": "104bf55b",
   "metadata": {
    "collapsed": true,
    "pycharm": {
     "name": "#%%\n",
     "is_executing": true
    }
   },
   "outputs": [],
   "source": [
    "seed_everything(123)\n",
    "\n",
    "prepare_func = prepare_data\n",
    "\n",
    "map_size = 10\n",
    "N_samples = 5\n",
    "cov_scaler = 10\n",
    "\n",
    "results = {}\n",
    "for internal_id in tqdm(range(0, 2422, 40), \"Internal IDs\"):\n",
    "    start_id, end_id = internal_id, internal_id + map_size\n",
    "\n",
    "    data = CARLA_dataset(start_id=start_id, end_id=end_id, dataset_coords_type=\"world\")\n",
    "\n",
    "    pcs = data.clds\n",
    "    T_gt = data.poses\n",
    "\n",
    "    pcs, T_gt, orth_planes, orth_planes_cld_ind, details = prepare_func(\n",
    "        pcs, T_gt, config)\n",
    "    details[\"orth_planes\"] = orth_planes\n",
    "    details[\"orth_planes_cld_ind\"] = orth_planes_cld_ind\n",
    "\n",
    "    tips = EasyDict(orth_list=orth_planes, config=config)\n",
    "\n",
    "    save_dict = sampling_pipeline(\n",
    "        pcs=pcs, T_gt=T_gt, map_tips=tips,\n",
    "        N_samples=N_samples, cov_scaler=cov_scaler,\n",
    "        orth_planes_cld_ind=orth_planes_cld_ind\n",
    "    )\n",
    "\n",
    "    results[internal_id, map_size] = {**details, **save_dict}\n",
    "\n",
    "voxel_size = config.orth_planes_extraction.downsample.voxel_size\n",
    "with open(f\"CARLA-downsampling_upsampling_vs{voxel_size}.pkl\", 'wb') as sfile:\n",
    "    pickle.dump(results, sfile)"
   ]
  },
  {
   "cell_type": "markdown",
   "id": "78475205",
   "metadata": {
    "pycharm": {
     "name": "#%% md\n"
    }
   },
   "source": [
    "С оптимизированной метрикой МоМ посчиталось за 22 минуты 27 секунд."
   ]
  },
  {
   "cell_type": "code",
   "execution_count": 5,
   "id": "adb3f397",
   "metadata": {
    "pycharm": {
     "name": "#%%\n"
    }
   },
   "outputs": [],
   "source": [
    "with open(f\"CARLA-downsampling_upsampling_vs{0.6}.pkl\", 'rb') as sfile:\n",
    "    results_0p6 = pickle.load(sfile)"
   ]
  },
  {
   "cell_type": "markdown",
   "id": "b539afcc",
   "metadata": {
    "pycharm": {
     "name": "#%% md\n"
    }
   },
   "source": [
    "## `voxel_size = 0.8`"
   ]
  },
  {
   "cell_type": "code",
   "execution_count": 10,
   "id": "2a677a24",
   "metadata": {
    "collapsed": true,
    "pycharm": {
     "name": "#%%\n"
    }
   },
   "outputs": [
    {
     "name": "stdout",
     "output_type": "stream",
     "text": [
      "Random seed set as 1\n"
     ]
    },
    {
     "data": {
      "text/plain": [
       "{'normals_estimation': {'max_radius': 1.0, 'max_nn': 30},\n",
       " 'orth_planes_extraction': {'min_clust_size': 10,\n",
       "  'affinity': 'cosine',\n",
       "  'dist_threshold': 0.1,\n",
       "  'from_pc': 'first',\n",
       "  'downsample': {'use': True, 'voxel_size': 0.8, 'upsample': True}},\n",
       " 'planes_segmentation': {'algo': 'svd_filter'},\n",
       " 'metrics': {'mom': {'min_nn': 6, 'input': 'whole'},\n",
       "  'mean_map_metric': {'min_nn': 6}}}"
      ]
     },
     "execution_count": 10,
     "metadata": {},
     "output_type": "execute_result"
    }
   ],
   "source": [
    "seed_everything(1)\n",
    "\n",
    "with open('configs/mom_pipeline/downsampling_upsampling_vs0.8.yaml', 'r') as file:\n",
    "    config = EasyDict(yaml.safe_load(file))\n",
    "\n",
    "config"
   ]
  },
  {
   "cell_type": "code",
   "execution_count": null,
   "id": "a248a093",
   "metadata": {
    "collapsed": true,
    "pycharm": {
     "name": "#%%\n",
     "is_executing": true
    }
   },
   "outputs": [],
   "source": [
    "seed_everything(123)\n",
    "\n",
    "prepare_func = prepare_data\n",
    "\n",
    "map_size = 10\n",
    "N_samples = 5\n",
    "cov_scaler = 10\n",
    "\n",
    "results = {}\n",
    "for internal_id in tqdm(range(0, 2422, 40), \"Internal IDs\"):\n",
    "    start_id, end_id = internal_id, internal_id + map_size\n",
    "\n",
    "    data = CARLA_dataset(start_id=start_id, end_id=end_id, dataset_coords_type=\"world\")\n",
    "\n",
    "    pcs = data.clds\n",
    "    T_gt = data.poses\n",
    "\n",
    "    pcs, T_gt, orth_planes, orth_planes_cld_ind, details = prepare_func(\n",
    "        pcs, T_gt, config)\n",
    "    details[\"orth_planes\"] = orth_planes\n",
    "    details[\"orth_planes_cld_ind\"] = orth_planes_cld_ind\n",
    "\n",
    "    tips = EasyDict(orth_list=orth_planes, config=config)\n",
    "\n",
    "    save_dict = sampling_pipeline(\n",
    "        pcs=pcs, T_gt=T_gt, map_tips=tips,\n",
    "        N_samples=N_samples, cov_scaler=cov_scaler,\n",
    "        orth_planes_cld_ind=orth_planes_cld_ind\n",
    "    )\n",
    "\n",
    "    results[internal_id, map_size] = {**details, **save_dict}\n",
    "\n",
    "voxel_size = config.orth_planes_extraction.downsample.voxel_size\n",
    "with open(f\"CARLA-downsampling_upsampling_vs{voxel_size}.pkl\", 'wb') as sfile:\n",
    "    pickle.dump(results, sfile)"
   ]
  },
  {
   "cell_type": "markdown",
   "id": "eaf100d1",
   "metadata": {
    "pycharm": {
     "name": "#%% md\n"
    }
   },
   "source": [
    "С оптимизированной метрикой МоМ посчиталось за 11 минут 49 секунд."
   ]
  },
  {
   "cell_type": "markdown",
   "id": "3e7c8174",
   "metadata": {
    "pycharm": {
     "name": "#%% md\n"
    }
   },
   "source": [
    "## `voxel_size = 1.0`"
   ]
  },
  {
   "cell_type": "code",
   "execution_count": 8,
   "id": "186b74d1",
   "metadata": {
    "pycharm": {
     "name": "#%%\n"
    }
   },
   "outputs": [
    {
     "name": "stdout",
     "output_type": "stream",
     "text": [
      "{'metrics': {'mean_map_metric': {'min_nn': 6},\n",
      "             'mom': {'input': 'whole', 'min_nn': 6}},\n",
      " 'normals_estimation': {'max_nn': 30, 'max_radius': 1.0},\n",
      " 'orth_planes_extraction': {'affinity': 'cosine',\n",
      "                            'dist_threshold': 0.1,\n",
      "                            'downsample': {'upsample': True,\n",
      "                                           'use': True,\n",
      "                                           'voxel_size': 1.0},\n",
      "                            'from_pc': 'first',\n",
      "                            'min_clust_size': 10},\n",
      " 'planes_segmentation': {'algo': 'svd_filter'}}\n",
      "Random seed set as 123\n"
     ]
    },
    {
     "name": "stderr",
     "output_type": "stream",
     "text": [
      "Internal IDs100.0%|██████████| 61/61 [09:05<00:00,  8.95s/it]"
     ]
    },
    {
     "name": "stdout",
     "output_type": "stream",
     "text": [
      "Results were saved to \"CARLA-downsampling_upsampling_vs1.0.pkl\".\n"
     ]
    },
    {
     "name": "stderr",
     "output_type": "stream",
     "text": [
      "\n"
     ]
    }
   ],
   "source": [
    "cfg = load_config(\"downsampling_upsampling_vs1.0\")\n",
    "run_CARLA_seq5(SEED, cfg)"
   ]
  },
  {
   "cell_type": "markdown",
   "id": "08cef5fc",
   "metadata": {
    "pycharm": {
     "name": "#%% md\n"
    }
   },
   "source": [
    "С оптимизированной метрикой МоМ посчиталось за 9 минут 5 секунд!"
   ]
  },
  {
   "cell_type": "markdown",
   "id": "92a12b88",
   "metadata": {
    "pycharm": {
     "name": "#%% md\n"
    }
   },
   "source": [
    "## `voxel_size = 1.5`"
   ]
  },
  {
   "cell_type": "code",
   "execution_count": 7,
   "id": "fc7fbedf",
   "metadata": {
    "pycharm": {
     "name": "#%%\n"
    }
   },
   "outputs": [
    {
     "name": "stdout",
     "output_type": "stream",
     "text": [
      "{'metrics': {'mean_map_metric': {'min_nn': 6},\n",
      "             'mom': {'input': 'whole', 'min_nn': 6}},\n",
      " 'normals_estimation': {'max_nn': 30, 'max_radius': 1.0},\n",
      " 'orth_planes_extraction': {'affinity': 'cosine',\n",
      "                            'dist_threshold': 0.1,\n",
      "                            'downsample': {'upsample': True,\n",
      "                                           'use': True,\n",
      "                                           'voxel_size': 1.5},\n",
      "                            'from_pc': 'first',\n",
      "                            'min_clust_size': 10},\n",
      " 'planes_segmentation': {'algo': 'svd_filter'}}\n",
      "Random seed set as 123\n"
     ]
    },
    {
     "name": "stderr",
     "output_type": "stream",
     "text": [
      "Internal IDs100.0%|██████████| 61/61 [09:05<00:00,  8.94s/it]\n"
     ]
    },
    {
     "name": "stdout",
     "output_type": "stream",
     "text": [
      "Results were saved to \"CARLA-downsampling_upsampling_vs1.5.pkl\".\n"
     ]
    }
   ],
   "source": [
    "cfg = load_config(\"downsampling_upsampling_vs1.5\")\n",
    "run_CARLA_seq5(SEED, cfg)"
   ]
  },
  {
   "cell_type": "markdown",
   "id": "45fa715e",
   "metadata": {
    "pycharm": {
     "name": "#%% md\n"
    }
   },
   "source": [
    "С оптимизированной метрикой МоМ посчиталось за 9 минут 5 секунд!"
   ]
  },
  {
   "cell_type": "code",
   "execution_count": null,
   "id": "6bddd8a2",
   "metadata": {
    "pycharm": {
     "name": "#%%\n"
    }
   },
   "outputs": [],
   "source": []
  },
  {
   "cell_type": "markdown",
   "id": "d8abcbe5",
   "metadata": {
    "pycharm": {
     "name": "#%% md\n"
    }
   },
   "source": [
    "# Downsampling"
   ]
  },
  {
   "cell_type": "markdown",
   "id": "83befa94",
   "metadata": {
    "pycharm": {
     "name": "#%% md\n"
    }
   },
   "source": [
    "## `voxel_size = 0.2`"
   ]
  },
  {
   "cell_type": "code",
   "execution_count": 6,
   "id": "0b4181a1",
   "metadata": {
    "pycharm": {
     "name": "#%%\n"
    }
   },
   "outputs": [
    {
     "name": "stdout",
     "output_type": "stream",
     "text": [
      "{'metrics': {'mean_map_metric': {'min_nn': 6},\n",
      "             'mom': {'input': 'whole', 'min_nn': 6}},\n",
      " 'normals_estimation': {'max_nn': 30, 'max_radius': 1.0},\n",
      " 'orth_planes_extraction': {'affinity': 'cosine',\n",
      "                            'dist_threshold': 0.1,\n",
      "                            'downsample': {'upsample': False,\n",
      "                                           'use': True,\n",
      "                                           'voxel_size': 0.2},\n",
      "                            'from_pc': 'first',\n",
      "                            'min_clust_size': 10},\n",
      " 'planes_segmentation': {'algo': 'svd_filter'}}\n",
      "Random seed set as 123\n"
     ]
    },
    {
     "name": "stderr",
     "output_type": "stream",
     "text": [
      "Internal IDs100.0%|██████████| 61/61 [17:48<00:00, 17.51s/it]\n"
     ]
    },
    {
     "name": "stdout",
     "output_type": "stream",
     "text": [
      "Results were saved to \"CARLA-downsampling_vs0.2.pkl\".\n"
     ]
    }
   ],
   "source": [
    "cfg = load_config(\"downsampling_vs0.2\")\n",
    "run_CARLA_seq5(SEED, cfg)"
   ]
  },
  {
   "cell_type": "markdown",
   "id": "64cc3dc1",
   "metadata": {
    "pycharm": {
     "name": "#%% md\n"
    }
   },
   "source": [
    "С оптимизированной метрикой МоМ посчиталось за 17 минут 48 секунд!"
   ]
  },
  {
   "cell_type": "markdown",
   "id": "6909b30b",
   "metadata": {
    "pycharm": {
     "name": "#%% md\n"
    }
   },
   "source": [
    "## `voxel_size = 0.3`"
   ]
  },
  {
   "cell_type": "code",
   "execution_count": 6,
   "id": "f8313b7b",
   "metadata": {
    "collapsed": true,
    "pycharm": {
     "name": "#%%\n"
    }
   },
   "outputs": [
    {
     "name": "stdout",
     "output_type": "stream",
     "text": [
      "Random seed set as 1\n"
     ]
    },
    {
     "data": {
      "text/plain": [
       "{'normals_estimation': {'max_radius': 1.0, 'max_nn': 30},\n",
       " 'orth_planes_extraction': {'min_clust_size': 10,\n",
       "  'affinity': 'cosine',\n",
       "  'dist_threshold': 0.1,\n",
       "  'from_pc': 'first',\n",
       "  'downsample': {'use': True, 'voxel_size': 0.3, 'upsample': False}},\n",
       " 'planes_segmentation': {'algo': 'svd_filter'},\n",
       " 'metrics': {'mom': {'min_nn': 6, 'input': 'whole'},\n",
       "  'mean_map_metric': {'min_nn': 6}}}"
      ]
     },
     "execution_count": 6,
     "metadata": {},
     "output_type": "execute_result"
    }
   ],
   "source": [
    "seed_everything(1)\n",
    "\n",
    "with open('configs/mom_pipeline/downsampling_vs0.3.yaml', 'r') as file:\n",
    "    config = EasyDict(yaml.safe_load(file))\n",
    "\n",
    "config"
   ]
  },
  {
   "cell_type": "code",
   "execution_count": null,
   "id": "feb19bc2",
   "metadata": {
    "collapsed": true,
    "pycharm": {
     "name": "#%%\n",
     "is_executing": true
    }
   },
   "outputs": [],
   "source": [
    "seed_everything(123)\n",
    "\n",
    "prepare_func = prepare_data\n",
    "\n",
    "map_size = 10\n",
    "N_samples = 5\n",
    "cov_scaler = 10\n",
    "\n",
    "results = {}\n",
    "for internal_id in tqdm(range(0, 2422, 40), \"Internal IDs\"):\n",
    "    start_id, end_id = internal_id, internal_id + map_size\n",
    "\n",
    "    data = CARLA_dataset(start_id=start_id, end_id=end_id, dataset_coords_type=\"world\")\n",
    "\n",
    "    pcs = data.clds\n",
    "    T_gt = data.poses\n",
    "\n",
    "    pcs, T_gt, orth_planes, orth_planes_cld_ind, details = prepare_func(\n",
    "        pcs, T_gt, config)\n",
    "    details[\"orth_planes\"] = orth_planes\n",
    "    details[\"orth_planes_cld_ind\"] = orth_planes_cld_ind\n",
    "\n",
    "    tips = EasyDict(orth_list=orth_planes, config=config)\n",
    "\n",
    "    save_dict = sampling_pipeline(\n",
    "        pcs=pcs, T_gt=T_gt, map_tips=tips,\n",
    "        N_samples=N_samples, cov_scaler=cov_scaler,\n",
    "        orth_planes_cld_ind=orth_planes_cld_ind\n",
    "    )\n",
    "\n",
    "    results[internal_id, map_size] = {**details, **save_dict}\n",
    "\n",
    "voxel_size = config.orth_planes_extraction.downsample.voxel_size\n",
    "with open(f\"CARLA-downsampling_vs{voxel_size}.pkl\", 'wb') as sfile:\n",
    "    pickle.dump(results, sfile)"
   ]
  },
  {
   "cell_type": "markdown",
   "id": "c3c32f63",
   "metadata": {
    "pycharm": {
     "name": "#%% md\n"
    }
   },
   "source": [
    "С оптимизированной метрикой МоМ посчиталось за 12 минут 49 секунд!"
   ]
  },
  {
   "cell_type": "markdown",
   "id": "9e87c97b",
   "metadata": {
    "pycharm": {
     "name": "#%% md\n"
    }
   },
   "source": [
    "## `voxel_size = 0.4`"
   ]
  },
  {
   "cell_type": "code",
   "execution_count": 13,
   "id": "54b67ef7",
   "metadata": {
    "collapsed": true,
    "pycharm": {
     "name": "#%%\n"
    }
   },
   "outputs": [
    {
     "name": "stdout",
     "output_type": "stream",
     "text": [
      "Random seed set as 1\n"
     ]
    },
    {
     "data": {
      "text/plain": [
       "{'normals_estimation': {'max_radius': 1.0, 'max_nn': 30},\n",
       " 'orth_planes_extraction': {'min_clust_size': 10,\n",
       "  'affinity': 'cosine',\n",
       "  'dist_threshold': 0.1,\n",
       "  'from_pc': 'first',\n",
       "  'downsample': {'use': True, 'voxel_size': 0.4, 'upsample': False}},\n",
       " 'planes_segmentation': {'algo': 'svd_filter'},\n",
       " 'metrics': {'mom': {'min_nn': 6, 'input': 'whole'},\n",
       "  'mean_map_metric': {'min_nn': 6}}}"
      ]
     },
     "execution_count": 13,
     "metadata": {},
     "output_type": "execute_result"
    }
   ],
   "source": [
    "seed_everything(1)\n",
    "\n",
    "with open('configs/mom_pipeline/downsampling_vs0.4.yaml', 'r') as file:\n",
    "    config = EasyDict(yaml.safe_load(file))\n",
    "\n",
    "config"
   ]
  },
  {
   "cell_type": "code",
   "execution_count": null,
   "id": "d1e8ceda",
   "metadata": {
    "collapsed": true,
    "pycharm": {
     "name": "#%%\n",
     "is_executing": true
    }
   },
   "outputs": [],
   "source": [
    "seed_everything(123)\n",
    "\n",
    "prepare_func = prepare_data\n",
    "\n",
    "map_size = 10\n",
    "N_samples = 5\n",
    "cov_scaler = 10\n",
    "\n",
    "results = {}\n",
    "for internal_id in tqdm(range(0, 2422, 40), \"Internal IDs\"):\n",
    "    start_id, end_id = internal_id, internal_id + map_size\n",
    "\n",
    "    data = CARLA_dataset(start_id=start_id, end_id=end_id, dataset_coords_type=\"world\")\n",
    "\n",
    "    pcs = data.clds\n",
    "    T_gt = data.poses\n",
    "\n",
    "    pcs, T_gt, orth_planes, orth_planes_cld_ind, details = prepare_func(\n",
    "        pcs, T_gt, config)\n",
    "    details[\"orth_planes\"] = orth_planes\n",
    "    details[\"orth_planes_cld_ind\"] = orth_planes_cld_ind\n",
    "\n",
    "    tips = EasyDict(orth_list=orth_planes, config=config)\n",
    "\n",
    "    save_dict = sampling_pipeline(\n",
    "        pcs=pcs, T_gt=T_gt, map_tips=tips,\n",
    "        N_samples=N_samples, cov_scaler=cov_scaler,\n",
    "        orth_planes_cld_ind=orth_planes_cld_ind\n",
    "    )\n",
    "\n",
    "    results[internal_id, map_size] = {**details, **save_dict}\n",
    "\n",
    "voxel_size = config.orth_planes_extraction.downsample.voxel_size\n",
    "with open(f\"CARLA-downsampling_vs{voxel_size}.pkl\", 'wb') as sfile:\n",
    "    pickle.dump(results, sfile)"
   ]
  },
  {
   "cell_type": "markdown",
   "id": "44470fa1",
   "metadata": {
    "pycharm": {
     "name": "#%% md\n"
    }
   },
   "source": [
    "С оптимизированной метрикой МоМ посчиталось за 10 минут 0 секунд!"
   ]
  },
  {
   "cell_type": "markdown",
   "id": "d4fa3c65",
   "metadata": {
    "pycharm": {
     "name": "#%% md\n"
    }
   },
   "source": [
    "## `voxel_size = 0.6`"
   ]
  },
  {
   "cell_type": "code",
   "execution_count": 15,
   "id": "f8e646a5",
   "metadata": {
    "collapsed": true,
    "pycharm": {
     "name": "#%%\n"
    }
   },
   "outputs": [
    {
     "name": "stdout",
     "output_type": "stream",
     "text": [
      "Random seed set as 1\n"
     ]
    },
    {
     "data": {
      "text/plain": [
       "{'normals_estimation': {'max_radius': 1.0, 'max_nn': 30},\n",
       " 'orth_planes_extraction': {'min_clust_size': 10,\n",
       "  'affinity': 'cosine',\n",
       "  'dist_threshold': 0.1,\n",
       "  'from_pc': 'first',\n",
       "  'downsample': {'use': True, 'voxel_size': 0.6, 'upsample': False}},\n",
       " 'planes_segmentation': {'algo': 'svd_filter'},\n",
       " 'metrics': {'mom': {'min_nn': 6, 'input': 'whole'},\n",
       "  'mean_map_metric': {'min_nn': 6}}}"
      ]
     },
     "execution_count": 15,
     "metadata": {},
     "output_type": "execute_result"
    }
   ],
   "source": [
    "seed_everything(1)\n",
    "\n",
    "with open('configs/mom_pipeline/downsampling_vs0.6.yaml', 'r') as file:\n",
    "    config = EasyDict(yaml.safe_load(file))\n",
    "\n",
    "config"
   ]
  },
  {
   "cell_type": "code",
   "execution_count": null,
   "id": "3b401ae9",
   "metadata": {
    "collapsed": true,
    "pycharm": {
     "name": "#%%\n",
     "is_executing": true
    }
   },
   "outputs": [],
   "source": [
    "seed_everything(123)\n",
    "\n",
    "prepare_func = prepare_data\n",
    "\n",
    "map_size = 10\n",
    "N_samples = 5\n",
    "cov_scaler = 10\n",
    "\n",
    "results = {}\n",
    "for internal_id in tqdm(range(0, 2422, 40), \"Internal IDs\"):\n",
    "    start_id, end_id = internal_id, internal_id + map_size\n",
    "\n",
    "    data = CARLA_dataset(start_id=start_id, end_id=end_id, dataset_coords_type=\"world\")\n",
    "\n",
    "    pcs = data.clds\n",
    "    T_gt = data.poses\n",
    "\n",
    "    pcs, T_gt, orth_planes, orth_planes_cld_ind, details = prepare_func(\n",
    "        pcs, T_gt, config)\n",
    "    details[\"orth_planes\"] = orth_planes\n",
    "    details[\"orth_planes_cld_ind\"] = orth_planes_cld_ind\n",
    "\n",
    "    tips = EasyDict(orth_list=orth_planes, config=config)\n",
    "\n",
    "    save_dict = sampling_pipeline(\n",
    "        pcs=pcs, T_gt=T_gt, map_tips=tips,\n",
    "        N_samples=N_samples, cov_scaler=cov_scaler,\n",
    "        orth_planes_cld_ind=orth_planes_cld_ind\n",
    "    )\n",
    "\n",
    "    results[internal_id, map_size] = {**details, **save_dict}\n",
    "\n",
    "voxel_size = config.orth_planes_extraction.downsample.voxel_size\n",
    "with open(f\"CARLA-downsampling_vs{voxel_size}.pkl\", 'wb') as sfile:\n",
    "    pickle.dump(results, sfile)"
   ]
  },
  {
   "cell_type": "markdown",
   "id": "f254165e",
   "metadata": {
    "pycharm": {
     "name": "#%% md\n"
    }
   },
   "source": [
    "С оптимизированной метрикой МоМ посчиталось за 7 минут 19 секунд!"
   ]
  },
  {
   "cell_type": "markdown",
   "id": "3c19c2ac",
   "metadata": {
    "pycharm": {
     "name": "#%% md\n"
    }
   },
   "source": [
    "## `voxel_size = 0.8`"
   ]
  },
  {
   "cell_type": "code",
   "execution_count": 7,
   "id": "69fd94ce",
   "metadata": {
    "pycharm": {
     "name": "#%%\n"
    }
   },
   "outputs": [
    {
     "name": "stdout",
     "output_type": "stream",
     "text": [
      "{'metrics': {'mean_map_metric': {'min_nn': 6},\n",
      "             'mom': {'input': 'whole', 'min_nn': 6}},\n",
      " 'normals_estimation': {'max_nn': 30, 'max_radius': 1.0},\n",
      " 'orth_planes_extraction': {'affinity': 'cosine',\n",
      "                            'dist_threshold': 0.1,\n",
      "                            'downsample': {'upsample': False,\n",
      "                                           'use': True,\n",
      "                                           'voxel_size': 0.8},\n",
      "                            'from_pc': 'first',\n",
      "                            'min_clust_size': 10},\n",
      " 'planes_segmentation': {'algo': 'svd_filter'}}\n",
      "Random seed set as 123\n"
     ]
    },
    {
     "name": "stderr",
     "output_type": "stream",
     "text": [
      "Internal IDs100.0%|██████████| 61/61 [06:24<00:00,  6.31s/it]\n"
     ]
    },
    {
     "name": "stdout",
     "output_type": "stream",
     "text": [
      "Results were saved to \"CARLA-downsampling_vs0.8.pkl\".\n"
     ]
    }
   ],
   "source": [
    "cfg = load_config(\"downsampling_vs0.8\")\n",
    "run_CARLA_seq5(SEED, cfg)"
   ]
  },
  {
   "cell_type": "markdown",
   "id": "4ec4db56",
   "metadata": {
    "pycharm": {
     "name": "#%% md\n"
    }
   },
   "source": [
    "С оптимизированной метрикой МоМ посчиталось за 6 минут 24 секунд!"
   ]
  },
  {
   "cell_type": "code",
   "execution_count": null,
   "id": "9e8f3e0c",
   "metadata": {
    "pycharm": {
     "name": "#%%\n"
    }
   },
   "outputs": [],
   "source": []
  },
  {
   "cell_type": "code",
   "execution_count": 17,
   "id": "4d0eea62",
   "metadata": {
    "collapsed": true,
    "pycharm": {
     "name": "#%%\n"
    }
   },
   "outputs": [
    {
     "name": "stdout",
     "output_type": "stream",
     "text": [
      "Random seed set as 1\n"
     ]
    },
    {
     "data": {
      "text/plain": [
       "{'normals_estimation': {'max_radius': 1.0, 'max_nn': 30},\n",
       " 'orth_planes_extraction': {'min_clust_size': 10,\n",
       "  'affinity': 'cosine',\n",
       "  'dist_threshold': 0.1,\n",
       "  'from_pc': 'first',\n",
       "  'downsample': {'use': True, 'voxel_size': 0.8, 'upsample': False}},\n",
       " 'planes_segmentation': {'algo': 'svd_filter'},\n",
       " 'metrics': {'mom': {'min_nn': 6, 'input': 'whole'},\n",
       "  'mean_map_metric': {'min_nn': 6}}}"
      ]
     },
     "execution_count": 17,
     "metadata": {},
     "output_type": "execute_result"
    }
   ],
   "source": [
    "seed_everything(1)\n",
    "\n",
    "with open('configs/mom_pipeline/downsampling_vs0.8.yaml', 'r') as file:\n",
    "    config = EasyDict(yaml.safe_load(file))\n",
    "\n",
    "config"
   ]
  },
  {
   "cell_type": "code",
   "execution_count": null,
   "id": "27aced15",
   "metadata": {
    "collapsed": true,
    "pycharm": {
     "name": "#%%\n",
     "is_executing": true
    }
   },
   "outputs": [],
   "source": [
    "seed_everything(123)\n",
    "\n",
    "prepare_func = prepare_data\n",
    "\n",
    "map_size = 10\n",
    "N_samples = 5\n",
    "cov_scaler = 10\n",
    "\n",
    "results = {}\n",
    "for internal_id in tqdm(range(0, 2422, 40), \"Internal IDs\"):\n",
    "    start_id, end_id = internal_id, internal_id + map_size\n",
    "\n",
    "    data = CARLA_dataset(start_id=start_id, end_id=end_id, dataset_coords_type=\"world\")\n",
    "\n",
    "    pcs = data.clds\n",
    "    T_gt = data.poses\n",
    "\n",
    "    pcs, T_gt, orth_planes, orth_planes_cld_ind, details = prepare_func(\n",
    "        pcs, T_gt, config)\n",
    "    details[\"orth_planes\"] = orth_planes\n",
    "    details[\"orth_planes_cld_ind\"] = orth_planes_cld_ind\n",
    "\n",
    "    tips = EasyDict(orth_list=orth_planes, config=config)\n",
    "\n",
    "    save_dict = sampling_pipeline(\n",
    "        pcs=pcs, T_gt=T_gt, map_tips=tips,\n",
    "        N_samples=N_samples, cov_scaler=cov_scaler,\n",
    "        orth_planes_cld_ind=orth_planes_cld_ind\n",
    "    )\n",
    "\n",
    "    results[internal_id, map_size] = {**details, **save_dict}\n",
    "\n",
    "voxel_size = config.orth_planes_extraction.downsample.voxel_size\n",
    "with open(f\"CARLA-downsampling_vs{voxel_size}.pkl\", 'wb') as sfile:\n",
    "    pickle.dump(results, sfile)"
   ]
  },
  {
   "cell_type": "markdown",
   "id": "9cce1ec1",
   "metadata": {
    "pycharm": {
     "name": "#%% md\n"
    }
   },
   "source": [
    "С оптимизированной метрикой МоМ посчиталось за 6 минут 31 секунд!"
   ]
  },
  {
   "cell_type": "markdown",
   "id": "1f0f9a92",
   "metadata": {
    "pycharm": {
     "name": "#%% md\n"
    }
   },
   "source": [
    "## `voxel_size = 1.0`"
   ]
  },
  {
   "cell_type": "code",
   "execution_count": 9,
   "id": "fc753156",
   "metadata": {
    "pycharm": {
     "name": "#%%\n"
    }
   },
   "outputs": [
    {
     "name": "stdout",
     "output_type": "stream",
     "text": [
      "{'metrics': {'mean_map_metric': {'min_nn': 6},\n",
      "             'mom': {'input': 'whole', 'min_nn': 6}},\n",
      " 'normals_estimation': {'max_nn': 30, 'max_radius': 1.0},\n",
      " 'orth_planes_extraction': {'affinity': 'cosine',\n",
      "                            'dist_threshold': 0.1,\n",
      "                            'downsample': {'upsample': False,\n",
      "                                           'use': True,\n",
      "                                           'voxel_size': 1.0},\n",
      "                            'from_pc': 'first',\n",
      "                            'min_clust_size': 10},\n",
      " 'planes_segmentation': {'algo': 'svd_filter'}}\n",
      "Random seed set as 123\n"
     ]
    },
    {
     "name": "stderr",
     "output_type": "stream",
     "text": [
      "Internal IDs100.0%|██████████| 61/61 [06:05<00:00,  5.99s/it]"
     ]
    },
    {
     "name": "stdout",
     "output_type": "stream",
     "text": [
      "Results were saved to \"CARLA-downsampling_vs1.0.pkl\".\n"
     ]
    },
    {
     "name": "stderr",
     "output_type": "stream",
     "text": [
      "\n"
     ]
    }
   ],
   "source": [
    "cfg = load_config(\"downsampling_vs1.0\")\n",
    "run_CARLA_seq5(SEED, cfg)"
   ]
  },
  {
   "cell_type": "markdown",
   "id": "a2ea6884",
   "metadata": {
    "pycharm": {
     "name": "#%% md\n"
    }
   },
   "source": [
    "С оптимизированной метрикой МоМ посчиталось за 6 минут 5 секунд!"
   ]
  },
  {
   "cell_type": "markdown",
   "id": "e23b28ca",
   "metadata": {
    "pycharm": {
     "name": "#%% md\n"
    }
   },
   "source": [
    "## `voxel_size = 1.5`"
   ]
  },
  {
   "cell_type": "code",
   "execution_count": 8,
   "id": "9bd398e5",
   "metadata": {
    "pycharm": {
     "name": "#%%\n"
    }
   },
   "outputs": [
    {
     "name": "stdout",
     "output_type": "stream",
     "text": [
      "{'metrics': {'mean_map_metric': {'min_nn': 6},\n",
      "             'mom': {'input': 'whole', 'min_nn': 6}},\n",
      " 'normals_estimation': {'max_nn': 30, 'max_radius': 1.0},\n",
      " 'orth_planes_extraction': {'affinity': 'cosine',\n",
      "                            'dist_threshold': 0.1,\n",
      "                            'downsample': {'upsample': False,\n",
      "                                           'use': True,\n",
      "                                           'voxel_size': 1.5},\n",
      "                            'from_pc': 'first',\n",
      "                            'min_clust_size': 10},\n",
      " 'planes_segmentation': {'algo': 'svd_filter'}}\n",
      "Random seed set as 123\n"
     ]
    },
    {
     "name": "stderr",
     "output_type": "stream",
     "text": [
      "Internal IDs100.0%|██████████| 61/61 [05:57<00:00,  5.86s/it]"
     ]
    },
    {
     "name": "stdout",
     "output_type": "stream",
     "text": [
      "Results were saved to \"CARLA-downsampling_vs1.5.pkl\".\n"
     ]
    },
    {
     "name": "stderr",
     "output_type": "stream",
     "text": [
      "\n"
     ]
    }
   ],
   "source": [
    "cfg = load_config(\"downsampling_vs1.5\")\n",
    "run_CARLA_seq5(SEED, cfg)"
   ]
  },
  {
   "cell_type": "markdown",
   "id": "7dc734ee",
   "metadata": {
    "pycharm": {
     "name": "#%% md\n"
    }
   },
   "source": [
    "С оптимизированной метрикой МоМ посчиталось за 5 минут 57 секунд!"
   ]
  }
 ],
 "metadata": {
  "kernelspec": {
   "display_name": "Python 3 (ipykernel)",
   "language": "python",
   "name": "python3"
  },
  "language_info": {
   "codemirror_mode": {
    "name": "ipython",
    "version": 3
   },
   "file_extension": ".py",
   "mimetype": "text/x-python",
   "name": "python",
   "nbconvert_exporter": "python",
   "pygments_lexer": "ipython3",
   "version": "3.8.10"
  }
 },
 "nbformat": 4,
 "nbformat_minor": 5
}