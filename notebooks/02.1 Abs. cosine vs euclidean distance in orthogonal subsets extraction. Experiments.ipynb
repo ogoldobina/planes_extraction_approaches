{
 "cells": [
  {
   "cell_type": "code",
   "execution_count": 1,
   "id": "36a758a1",
   "metadata": {
    "pycharm": {
     "name": "#%%\n"
    }
   },
   "outputs": [],
   "source": [
    "%config Completer.use_jedi = False\n",
    "\n",
    "%load_ext autoreload\n",
    "%autoreload 2"
   ]
  },
  {
   "cell_type": "code",
   "execution_count": 2,
   "id": "fe02074e",
   "metadata": {},
   "outputs": [],
   "source": [
    "import os\n",
    "import sys\n",
    "\n",
    "sys.path.insert(1, os.path.join(sys.path[0], \"..\"))"
   ]
  },
  {
   "cell_type": "code",
   "execution_count": 3,
   "id": "447d92e3",
   "metadata": {
    "pycharm": {
     "name": "#%%\n"
    }
   },
   "outputs": [
    {
     "name": "stdout",
     "output_type": "stream",
     "text": [
      "Jupyter environment detected. Enabling Open3D WebVisualizer.\n",
      "[Open3D INFO] WebRTC GUI backend enabled.\n",
      "[Open3D INFO] WebRTCWindowSystem: HTTP handshake server disabled.\n"
     ]
    }
   ],
   "source": [
    "import yaml\n",
    "from easydict import EasyDict\n",
    "import pickle\n",
    "\n",
    "from tqdm.auto import tqdm\n",
    "\n",
    "from registration_metrics import (\n",
    "    seed_everything,\n",
    "    CARLA_dataset,\n",
    "    prepare_data,\n",
    "    sampling_pipeline,\n",
    ")"
   ]
  },
  {
   "cell_type": "markdown",
   "id": "c7dcad51",
   "metadata": {
    "pycharm": {
     "name": "#%% md\n"
    }
   },
   "source": [
    "Считываем данные:"
   ]
  },
  {
   "cell_type": "code",
   "execution_count": 4,
   "id": "de25e873",
   "metadata": {
    "pycharm": {
     "name": "#%%\n"
    }
   },
   "outputs": [
    {
     "name": "stdout",
     "output_type": "stream",
     "text": [
      "CPU times: user 1min 29s, sys: 1min 6s, total: 2min 35s\n",
      "Wall time: 51.1 s\n"
     ]
    }
   ],
   "source": [
    "%%time\n",
    "data = CARLA_dataset(start_id=0, end_id=2422, dataset_coords_type=\"world\")"
   ]
  },
  {
   "cell_type": "markdown",
   "id": "795efb31",
   "metadata": {
    "pycharm": {
     "name": "#%% md\n"
    }
   },
   "source": [
    "# Run with `affinity=\"cosine\"`"
   ]
  },
  {
   "cell_type": "code",
   "execution_count": 6,
   "id": "52578397",
   "metadata": {
    "pycharm": {
     "name": "#%%\n"
    },
    "scrolled": true
   },
   "outputs": [
    {
     "data": {
      "text/plain": [
       "{'normals_estimation': {'max_radius': 1.0, 'max_nn': 30},\n",
       " 'orth_planes_extraction': {'min_clust_size': 10,\n",
       "  'affinity': 'cosine',\n",
       "  'dist_threshold': 0.1,\n",
       "  'from_pc': 'first',\n",
       "  'downsample': {'use': False, 'voxel_size': 0.6, 'upsample': False}},\n",
       " 'planes_segmentation': {'algo': 'svd_filter'},\n",
       " 'metrics': {'mom': {'min_nn': 6, 'input': 'whole'},\n",
       "  'mean_map_metric': {'min_nn': 6}}}"
      ]
     },
     "execution_count": 6,
     "metadata": {},
     "output_type": "execute_result"
    }
   ],
   "source": [
    "with open('../configs/mom_pipeline/cosine_affinity.yaml', 'r') as file:\n",
    "    config = EasyDict(yaml.safe_load(file))\n",
    "\n",
    "config"
   ]
  },
  {
   "cell_type": "code",
   "execution_count": null,
   "id": "cc4af879",
   "metadata": {
    "pycharm": {
     "is_executing": true,
     "name": "#%%\n"
    }
   },
   "outputs": [],
   "source": [
    "seed_everything(123)\n",
    "\n",
    "prepare_func = prepare_data\n",
    "\n",
    "map_size = 10\n",
    "N_samples = 5\n",
    "cov_scaler = 10\n",
    "\n",
    "results = {}\n",
    "for internal_id in tqdm(range(0, 2422, 40), \"Internal IDs\"):\n",
    "    start_id, end_id = internal_id, internal_id + map_size\n",
    "\n",
    "    data = CARLA_dataset(start_id=start_id, end_id=end_id, dataset_coords_type=\"world\")\n",
    "\n",
    "    pcs = data.clds\n",
    "    T_gt = data.poses\n",
    "\n",
    "    pcs, T_gt, orth_planes, orth_planes_cld_ind, details = prepare_func(\n",
    "        pcs, T_gt, config)\n",
    "    details[\"orth_planes\"] = orth_planes\n",
    "    details[\"orth_planes_cld_ind\"] = orth_planes_cld_ind\n",
    "\n",
    "    tips = EasyDict(orth_list=orth_planes, config=config)\n",
    "\n",
    "    save_dict = sampling_pipeline(\n",
    "        pcs=pcs, T_gt=T_gt, map_tips=tips,\n",
    "        N_samples=N_samples, cov_scaler=cov_scaler,\n",
    "        orth_planes_cld_ind=orth_planes_cld_ind\n",
    "    )\n",
    "\n",
    "    results[internal_id, map_size] = {**details, **save_dict}\n",
    "\n",
    "with open(f\"CARLA-cosine-affinity-orth-planes.pkl\", 'wb') as sfile:\n",
    "    pickle.dump(results, sfile)"
   ]
  },
  {
   "cell_type": "markdown",
   "id": "a69e363d",
   "metadata": {
    "pycharm": {
     "name": "#%% md\n"
    }
   },
   "source": [
    "# Run with `affinity=\"euclidean\"`"
   ]
  },
  {
   "cell_type": "code",
   "execution_count": 9,
   "id": "4a53d210",
   "metadata": {
    "pycharm": {
     "name": "#%%\n"
    },
    "scrolled": true
   },
   "outputs": [
    {
     "data": {
      "text/plain": [
       "{'normals_estimation': {'max_radius': 1.0, 'max_nn': 30},\n",
       " 'orth_planes_extraction': {'min_clust_size': 10,\n",
       "  'affinity': 'euclidean',\n",
       "  'dist_threshold': 0.1,\n",
       "  'from_pc': 'first',\n",
       "  'downsample': {'use': False, 'voxel_size': 0.6, 'upsample': False}},\n",
       " 'planes_segmentation': {'algo': 'svd_filter'},\n",
       " 'metrics': {'mom': {'min_nn': 6, 'input': 'whole'},\n",
       "  'mean_map_metric': {'min_nn': 6}}}"
      ]
     },
     "execution_count": 9,
     "metadata": {},
     "output_type": "execute_result"
    }
   ],
   "source": [
    "with open('../configs/mom_pipeline/euclidean_affinity.yaml', 'r') as file:\n",
    "    config = EasyDict(yaml.safe_load(file))\n",
    "\n",
    "config"
   ]
  },
  {
   "cell_type": "code",
   "execution_count": null,
   "id": "26234f31",
   "metadata": {
    "pycharm": {
     "name": "#%%\n"
    }
   },
   "outputs": [],
   "source": [
    "seed_everything(123)\n",
    "\n",
    "prepare_func = prepare_data\n",
    "\n",
    "map_size = 1\n",
    "\n",
    "results = {}\n",
    "for external_id in tqdm(range(0, len(data), 40), \"Internal IDs\"):\n",
    "    internal_id = external_id + data.start_id\n",
    "\n",
    "    pcs = data.clds[external_id:external_id + map_size]\n",
    "    T_gt = data.poses[external_id:external_id + map_size]\n",
    "\n",
    "    pcs, T_gt, orth_planes, orth_planes_cld_ind, details = prepare_func(\n",
    "        pcs, T_gt, config)\n",
    "\n",
    "    details[\"orth_planes\"] = orth_planes\n",
    "    results[internal_id] = details\n",
    "    \n",
    "with open(\"CARLA-euclidean-affinity-orth-planes.pkl\", 'wb') as sfile:\n",
    "    pickle.dump(results, sfile)"
   ]
  }
 ],
 "metadata": {
  "kernelspec": {
   "display_name": "Python 3 (ipykernel)",
   "language": "python",
   "name": "python3"
  },
  "language_info": {
   "codemirror_mode": {
    "name": "ipython",
    "version": 3
   },
   "file_extension": ".py",
   "mimetype": "text/x-python",
   "name": "python",
   "nbconvert_exporter": "python",
   "pygments_lexer": "ipython3",
   "version": "3.8.10"
  }
 },
 "nbformat": 4,
 "nbformat_minor": 5
}
