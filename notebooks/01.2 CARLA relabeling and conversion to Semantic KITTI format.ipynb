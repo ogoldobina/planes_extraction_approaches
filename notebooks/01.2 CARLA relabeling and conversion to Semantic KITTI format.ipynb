{
 "cells": [
  {
   "cell_type": "code",
   "execution_count": 1,
   "outputs": [],
   "source": [
    "%config Completer.use_jedi = False\n",
    "\n",
    "%load_ext autoreload\n",
    "%autoreload 2"
   ],
   "metadata": {
    "collapsed": false,
    "pycharm": {
     "name": "#%%\n"
    }
   }
  },
  {
   "cell_type": "code",
   "execution_count": 2,
   "outputs": [
    {
     "name": "stdout",
     "output_type": "stream",
     "text": [
      "Jupyter environment detected. Enabling Open3D WebVisualizer.\n",
      "[Open3D INFO] WebRTC GUI backend enabled.\n",
      "[Open3D INFO] WebRTCWindowSystem: HTTP handshake server disabled.\n"
     ]
    }
   ],
   "source": [
    "import os\n",
    "\n",
    "import numpy as np\n",
    "from tqdm import tqdm\n",
    "\n",
    "from registration_metrics import CARLA_dataset"
   ],
   "metadata": {
    "collapsed": false,
    "pycharm": {
     "name": "#%%\n"
    }
   }
  },
  {
   "cell_type": "code",
   "execution_count": 3,
   "outputs": [],
   "source": [
    "NOT_PLANES = 0\n",
    "PLANES = 1\n",
    "GROUND = 2\n",
    "NOT_SURE = 3\n",
    "UNKNOWN = 4\n",
    "\n",
    "\n",
    "def get_CARLA_map_labels():\n",
    "    not_planes_labels = [5, 9, 10, 18, 19, 20]\n",
    "    planes_labels = [1, 2, 11]\n",
    "    ground_labels = [0, 7, 8, 14]\n",
    "    not_sure_labels = [12]\n",
    "    unknown_labels = [3, 4, 6, 13, 15, 16, 17]\n",
    "\n",
    "    map_labels = -np.ones(21, dtype=int)\n",
    "    for labels, mark in zip(\n",
    "        [not_planes_labels, planes_labels, ground_labels, not_sure_labels, unknown_labels],\n",
    "        [NOT_PLANES, PLANES, GROUND, NOT_SURE, UNKNOWN]\n",
    "    ):\n",
    "        map_labels[labels] = mark\n",
    "\n",
    "    return map_labels"
   ],
   "metadata": {
    "collapsed": false,
    "pycharm": {
     "name": "#%%\n"
    }
   }
  },
  {
   "cell_type": "markdown",
   "source": [
    "## Приведение CARLA к формату SemanticKITTI"
   ],
   "metadata": {
    "collapsed": false,
    "pycharm": {
     "name": "#%% md\n"
    }
   }
  },
  {
   "cell_type": "markdown",
   "source": [
    "- папка с названием последовательности\n",
    "- внутри папка velodyne с облаками в формате bin и labels c метками в формате npy"
   ],
   "metadata": {
    "collapsed": false,
    "pycharm": {
     "name": "#%% md\n"
    }
   }
  },
  {
   "cell_type": "code",
   "execution_count": 5,
   "outputs": [],
   "source": [
    "data = CARLA_dataset(start_id=0, end_id=2421, dataset_coords_type=\"world\")"
   ],
   "metadata": {
    "collapsed": false,
    "pycharm": {
     "name": "#%%\n"
    }
   }
  },
  {
   "cell_type": "code",
   "execution_count": 6,
   "outputs": [],
   "source": [
    "data_dir = '/mnt/f/Projects data, datasets/Goldobina/Research/carla_semantic/seq5_kitti_fmt/'\n",
    "cld_dir = 'velodyne'\n",
    "label_dir = 'labels'"
   ],
   "metadata": {
    "collapsed": false,
    "pycharm": {
     "name": "#%%\n"
    }
   }
  },
  {
   "cell_type": "code",
   "execution_count": 32,
   "outputs": [],
   "source": [
    "os.makedirs(os.path.join(data_dir, cld_dir))\n",
    "os.makedirs(os.path.join(data_dir, label_dir))"
   ],
   "metadata": {
    "collapsed": false,
    "pycharm": {
     "name": "#%%\n"
    }
   }
  },
  {
   "cell_type": "code",
   "execution_count": 7,
   "outputs": [],
   "source": [
    "map_labels = get_CARLA_map_labels()\n",
    "map_labels[(map_labels == NOT_SURE) | (map_labels == UNKNOWN)] = NOT_PLANES"
   ],
   "metadata": {
    "collapsed": false,
    "pycharm": {
     "name": "#%%\n"
    }
   }
  },
  {
   "cell_type": "code",
   "execution_count": 8,
   "outputs": [
    {
     "name": "stderr",
     "output_type": "stream",
     "text": [
      "100%|█████████████████████████████████████████████████████████████████████████████████████████████████████████████████████████| 2421/2421 [01:04<00:00, 37.66it/s]\n"
     ]
    }
   ],
   "source": [
    "for i, frame in enumerate(tqdm(data)):\n",
    "    filename = str(i).zfill(6)\n",
    "\n",
    "    cld = np.zeros((frame.cld.shape[0], 4))\n",
    "    cld[:, :3] = frame.cld\n",
    "    cld.astype(np.float32).tofile(os.path.join(data_dir, cld_dir, filename + '.bin'))\n",
    "\n",
    "    lbl = map_labels[frame.label]\n",
    "    np.save(os.path.join(data_dir, label_dir, filename), lbl.astype(np.int32))"
   ],
   "metadata": {
    "collapsed": false,
    "pycharm": {
     "name": "#%%\n"
    }
   }
  },
  {
   "cell_type": "markdown",
   "source": [
    "**check**"
   ],
   "metadata": {
    "collapsed": false,
    "pycharm": {
     "name": "#%% md\n"
    }
   }
  },
  {
   "cell_type": "code",
   "execution_count": 27,
   "outputs": [],
   "source": [
    "cld_file = os.path.join(data_dir, cld_dir, filename + '.bin')\n",
    "label_file = cld_file.replace('velodyne', 'labels').replace('.bin', '.npy')\n",
    "\n",
    "cld = np.fromfile(cld_file, dtype=np.float32).reshape(-1, 4)\n",
    "label = np.load(label_file).astype(np.int32)"
   ],
   "metadata": {
    "collapsed": false,
    "pycharm": {
     "name": "#%%\n"
    }
   }
  },
  {
   "cell_type": "code",
   "execution_count": 28,
   "outputs": [
    {
     "data": {
      "text/plain": [
       "True"
      ]
     },
     "execution_count": 28,
     "metadata": {},
     "output_type": "execute_result"
    }
   ],
   "source": [
    "np.allclose(cld[:, :3], data[0].cld)"
   ],
   "metadata": {
    "collapsed": false,
    "pycharm": {
     "name": "#%%\n"
    }
   }
  },
  {
   "cell_type": "code",
   "execution_count": 29,
   "outputs": [
    {
     "data": {
      "text/plain": [
       "array([0, 1, 2], dtype=int32)"
      ]
     },
     "execution_count": 29,
     "metadata": {},
     "output_type": "execute_result"
    }
   ],
   "source": [
    "np.unique(label)"
   ],
   "metadata": {
    "collapsed": false,
    "pycharm": {
     "name": "#%%\n"
    }
   }
  }
 ],
 "metadata": {
  "kernelspec": {
   "display_name": "Python 3 (ipykernel)",
   "language": "python",
   "name": "python3"
  },
  "language_info": {
   "codemirror_mode": {
    "name": "ipython",
    "version": 3
   },
   "file_extension": ".py",
   "mimetype": "text/x-python",
   "name": "python",
   "nbconvert_exporter": "python",
   "pygments_lexer": "ipython3",
   "version": "3.8.10"
  }
 },
 "nbformat": 4,
 "nbformat_minor": 5
}